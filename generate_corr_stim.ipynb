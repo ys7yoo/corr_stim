{
 "cells": [
  {
   "cell_type": "code",
   "execution_count": 1,
   "metadata": {},
   "outputs": [],
   "source": [
    "import numpy as np\n",
    "import pandas as pd\n",
    "import os\n",
    "import matplotlib.pyplot as plt\n",
    "\n",
    "from scipy.ndimage import gaussian_filter\n",
    "from scipy.signal import correlate2d, correlate"
   ]
  },
  {
   "cell_type": "code",
   "execution_count": 2,
   "metadata": {},
   "outputs": [],
   "source": [
    "def plot_spatial_spectrum(slice, windowing='hann', pixel_size=1, precision=0):\n",
    "    \n",
    "    def set_ticks(ax, fs, half_N, precision=precision):\n",
    "        ticks = range(0, half_N+1)\n",
    "        ticklabels = [\"{:.0f}\".format(p) for p in (pixel_size/fs[:half_N+1])]\n",
    "        ax.set_xticks(ticks)\n",
    "        ax.set_xticklabels(ticklabels)\n",
    "        ax.set_xlim(-0.5, half_N+0.5)\n",
    "#         from matplotlib.ticker import FormatStrFormatter\n",
    "#         ax.xaxis.set_major_formatter(FormatStrFormatter('%.0f'))\n",
    "        \n",
    "        ax.set_yticks(ticks)\n",
    "        ax.set_yticklabels(ticklabels)\n",
    "        ax.set_ylim(-0.5, half_N+0.5)\n",
    "    \n",
    "    N = slice.shape[0]    \n",
    "#     height, width = slice.shape\n",
    "    if N % 2 ==0: # for even\n",
    "        half_N = int(N/2-1)\n",
    "    else:\n",
    "        half_N = int((N-1)/2)\n",
    "    print(half_N)\n",
    "        \n",
    "        \n",
    "    w = fft2(slice * window(windowing, slice.shape))\n",
    "\n",
    "    fs = fftfreq(N)\n",
    "    \n",
    "    plt.imshow(np.abs(w), cmap='gray', origin='lower')\n",
    "\n",
    "    set_ticks(plt.gca(), fs, half_N, precision=3)\n",
    "    \n",
    "    plt.xlabel('period (um)')\n",
    "    plt.ylabel('period (um)')\n",
    "    \n",
    "    \n",
    "def box_off():\n",
    "    ax = plt.gca()\n",
    "    ax.spines['top'].set_visible(False)\n",
    "    ax.spines['right'].set_visible(False)"
   ]
  },
  {
   "cell_type": "code",
   "execution_count": 3,
   "metadata": {},
   "outputs": [],
   "source": [
    "# # stim pixel size\n",
    "# height=13\n",
    "# width=13\n",
    "# pixel_size = 132 #um\n",
    "\n",
    "height=26\n",
    "width=26\n",
    "pixel_size = 66 #um"
   ]
  },
  {
   "cell_type": "code",
   "execution_count": null,
   "metadata": {},
   "outputs": [],
   "source": []
  },
  {
   "cell_type": "markdown",
   "metadata": {},
   "source": [
    "## Gaussian stim"
   ]
  },
  {
   "cell_type": "code",
   "execution_count": 4,
   "metadata": {},
   "outputs": [
    {
     "name": "stdout",
     "output_type": "stream",
     "text": [
      "0.9982159928109454\n"
     ]
    },
    {
     "data": {
      "image/png": "[encoded data removed]",
      "text/plain": [
       "<Figure size 432x288 with 1 Axes>"
      ]
     },
     "metadata": {
      "needs_background": "light"
     },
     "output_type": "display_data"
    }
   ],
   "source": [
    "num_frames = 100\n",
    "stim = np.random.randn(height,width, num_frames)\n",
    "# stim = stim - np.mean(stim.ravel())\n",
    "\n",
    "print(np.std(stim.ravel()))\n",
    "\n",
    "plt.hist(stim.ravel())\n",
    "box_off()"
   ]
  },
  {
   "cell_type": "code",
   "execution_count": 5,
   "metadata": {},
   "outputs": [
    {
     "name": "stdout",
     "output_type": "stream",
     "text": [
      "12\n"
     ]
    },
    {
     "ename": "NameError",
     "evalue": "name 'fft2' is not defined",
     "output_type": "error",
     "traceback": [
      "\u001b[0;31m---------------------------------------------------------------------------\u001b[0m",
      "\u001b[0;31mNameError\u001b[0m                                 Traceback (most recent call last)",
      "\u001b[0;32m<ipython-input-5-5cd0f7684dc5>\u001b[0m in \u001b[0;36m<module>\u001b[0;34m\u001b[0m\n\u001b[1;32m      6\u001b[0m \u001b[0;34m\u001b[0m\u001b[0m\n\u001b[1;32m      7\u001b[0m \u001b[0mplt\u001b[0m\u001b[0;34m.\u001b[0m\u001b[0msubplot\u001b[0m\u001b[0;34m(\u001b[0m\u001b[0;36m122\u001b[0m\u001b[0;34m)\u001b[0m\u001b[0;34m\u001b[0m\u001b[0;34m\u001b[0m\u001b[0m\n\u001b[0;32m----> 8\u001b[0;31m \u001b[0mplot_spatial_spectrum\u001b[0m\u001b[0;34m(\u001b[0m\u001b[0mstim\u001b[0m\u001b[0;34m[\u001b[0m\u001b[0;34m:\u001b[0m\u001b[0;34m,\u001b[0m\u001b[0;34m:\u001b[0m\u001b[0;34m,\u001b[0m\u001b[0midx_frame\u001b[0m\u001b[0;34m]\u001b[0m\u001b[0;34m,\u001b[0m \u001b[0mpixel_size\u001b[0m\u001b[0;34m=\u001b[0m\u001b[0mpixel_size\u001b[0m\u001b[0;34m)\u001b[0m\u001b[0;34m\u001b[0m\u001b[0;34m\u001b[0m\u001b[0m\n\u001b[0m\u001b[1;32m      9\u001b[0m \u001b[0mplt\u001b[0m\u001b[0;34m.\u001b[0m\u001b[0mtitle\u001b[0m\u001b[0;34m(\u001b[0m\u001b[0;34m'spectrum'\u001b[0m\u001b[0;34m)\u001b[0m\u001b[0;34m\u001b[0m\u001b[0;34m\u001b[0m\u001b[0m\n\u001b[1;32m     10\u001b[0m \u001b[0;34m\u001b[0m\u001b[0m\n",
      "\u001b[0;32m<ipython-input-2-e0d3e8129f56>\u001b[0m in \u001b[0;36mplot_spatial_spectrum\u001b[0;34m(slice, windowing, pixel_size, precision)\u001b[0m\n\u001b[1;32m     23\u001b[0m \u001b[0;34m\u001b[0m\u001b[0m\n\u001b[1;32m     24\u001b[0m \u001b[0;34m\u001b[0m\u001b[0m\n\u001b[0;32m---> 25\u001b[0;31m     \u001b[0mw\u001b[0m \u001b[0;34m=\u001b[0m \u001b[0mfft2\u001b[0m\u001b[0;34m(\u001b[0m\u001b[0mslice\u001b[0m \u001b[0;34m*\u001b[0m \u001b[0mwindow\u001b[0m\u001b[0;34m(\u001b[0m\u001b[0mwindowing\u001b[0m\u001b[0;34m,\u001b[0m \u001b[0mslice\u001b[0m\u001b[0;34m.\u001b[0m\u001b[0mshape\u001b[0m\u001b[0;34m)\u001b[0m\u001b[0;34m)\u001b[0m\u001b[0;34m\u001b[0m\u001b[0;34m\u001b[0m\u001b[0m\n\u001b[0m\u001b[1;32m     26\u001b[0m \u001b[0;34m\u001b[0m\u001b[0m\n\u001b[1;32m     27\u001b[0m     \u001b[0mfs\u001b[0m \u001b[0;34m=\u001b[0m \u001b[0mfftfreq\u001b[0m\u001b[0;34m(\u001b[0m\u001b[0mN\u001b[0m\u001b[0;34m)\u001b[0m\u001b[0;34m\u001b[0m\u001b[0;34m\u001b[0m\u001b[0m\n",
      "\u001b[0;31mNameError\u001b[0m: name 'fft2' is not defined"
     ]
    },
    {
     "data": {
      "image/png": "[encoded data removed]",
      "text/plain": [
       "<Figure size 1296x432 with 2 Axes>"
      ]
     },
     "metadata": {
      "needs_background": "light"
     },
     "output_type": "display_data"
    }
   ],
   "source": [
    "idx_frame = int(num_frames/2)\n",
    "plt.figure(figsize=(18,6))\n",
    "\n",
    "plt.imshow(stim[:,:,idx_frame], cmap='gray')\n",
    "plt.title('stimulus ({:d}x{:d}, pixel size={:2} um)'.format(width,height,pixel_size))\n",
    "\n",
    "# plt.savefig('figure/stim_{}x{}_gauss.png'.format(width,height), bbox_inches='tight')"
   ]
  },
  {
   "cell_type": "markdown",
   "metadata": {},
   "source": [
    "### Smoothed Gaussian"
   ]
  },
  {
   "cell_type": "code",
   "execution_count": null,
   "metadata": {},
   "outputs": [],
   "source": [
    "sigma = 1\n",
    "# smoothe each frame\n",
    "\n",
    "stim_spatial_smoothed = np.zeros((height,width,num_frames))\n",
    "for n in range(num_frames):\n",
    "    stim_spatial_smoothed[:,:,n] = gaussian_filter(stim[:,:,n], sigma=sigma)\n",
    "\n",
    "print(np.std(stim_spatial_smoothed.ravel()))\n",
    "\n",
    "plt.hist([stim.ravel(), stim_spatial_smoothed.ravel()])\n",
    "plt.legend(['Gaussian', 'Smoothed Gaussian'])\n",
    "box_off()"
   ]
  },
  {
   "cell_type": "code",
   "execution_count": null,
   "metadata": {},
   "outputs": [],
   "source": [
    "idx_frame = int(num_frames/2)\n",
    "plt.figure(figsize=(18,6))\n",
    "plt.subplot(121)\n",
    "plt.imshow(stim_spatial_smoothed[:,:,idx_frame], cmap='gray')\n",
    "plt.title('stimulus ({:d}x{:d}, pixel size={:2} um)'.format(width,height,pixel_size))\n",
    "\n",
    "# plt.savefig('figure/stim_{}x{}_gauss_smoothed.png'.format(width,height), bbox_inches='tight')"
   ]
  },
  {
   "cell_type": "markdown",
   "metadata": {},
   "source": [
    "## related alpha with time const\n",
    "\n",
    "$\\alpha^t  =  \\exp(- t / \\tau).$\n",
    "This means \n",
    "$\\alpha = \\exp(-\\frac{1}{\\tau}).$\n",
    "$\\tau = -\\frac{1}{\\log \\alpha}.$"
   ]
  },
  {
   "cell_type": "code",
   "execution_count": null,
   "metadata": {},
   "outputs": [],
   "source": [
    "# decrease in one tau\n",
    "np.exp(-1)"
   ]
  },
  {
   "cell_type": "code",
   "execution_count": null,
   "metadata": {},
   "outputs": [],
   "source": [
    "# tau -> alpha\n",
    "tau = 3\n",
    "alpha = np.exp(-1 / tau) \n",
    "print(alpha)"
   ]
  },
  {
   "cell_type": "code",
   "execution_count": null,
   "metadata": {},
   "outputs": [],
   "source": [
    "# alpha -> tau\n",
    "tau = -1 / np.log(alpha)\n",
    "tau"
   ]
  },
  {
   "cell_type": "markdown",
   "metadata": {},
   "source": [
    "## Temporal smoothing"
   ]
  },
  {
   "cell_type": "code",
   "execution_count": null,
   "metadata": {
    "scrolled": false
   },
   "outputs": [],
   "source": [
    "def smoothe_temp(trace, weight_prev):\n",
    "    trace_smoothed = trace.copy()\n",
    "\n",
    "    for t in range(len(trace)):\n",
    "        if t == 0: # for the first time step, just copy\n",
    "            continue\n",
    "        \n",
    "        trace_smoothed[t] = weight_prev * trace_smoothed[t-1] + (1-weight_prev) * trace_smoothed[t]   # mix with the previous time step\n",
    "    return trace_smoothed\n",
    "        \n",
    "    \n",
    "# reshape for processing each pixel\n",
    "stim_spatial_smoothed = stim_spatial_smoothed.reshape((-1, num_frames))\n",
    "stim_spatial_smoothed.shape\n",
    "\n",
    "stim_temp_smoothed = np.zeros((height*width, num_frames))\n",
    "for xy in range(height*width):    \n",
    "\n",
    "    stim_temp_smoothed[xy,:] = smoothe_temp(stim_spatial_smoothed[xy,:], alpha)\n",
    "\n",
    "# reshape back to original shapes\n",
    "stim_spatial_smoothed = stim_spatial_smoothed.reshape((height, width, num_frames))\n",
    "stim_temp_smoothed = stim_temp_smoothed.reshape((height, width, num_frames))    "
   ]
  },
  {
   "cell_type": "code",
   "execution_count": null,
   "metadata": {},
   "outputs": [],
   "source": [
    "# compare traces for a pixel\n",
    "x = 13\n",
    "y = 13\n",
    "plt.plot(stim_spatial_smoothed[y,x,:])\n",
    "plt.plot(stim_temp_smoothed[y,x,:])\n",
    "plt.xlabel('time bin')\n",
    "plt.legend(['input', 'smoothed'])\n",
    "box_off()"
   ]
  },
  {
   "cell_type": "code",
   "execution_count": null,
   "metadata": {},
   "outputs": [],
   "source": [
    "plt.subplot(131)\n",
    "plt.imshow(stim[:,:,0], cmap='gray')\n",
    "plt.subplot(132)\n",
    "plt.imshow(stim[:,:,1], cmap='gray')\n",
    "plt.subplot(133)\n",
    "plt.imshow(stim[:,:,2], cmap='gray')\n",
    "\n",
    "plt.figure()\n",
    "plt.subplot(131)\n",
    "plt.imshow(stim_spatial_smoothed[:,:,0], cmap='gray')\n",
    "plt.subplot(132)\n",
    "plt.imshow(stim_spatial_smoothed[:,:,1], cmap='gray')\n",
    "plt.subplot(133)\n",
    "plt.imshow(stim_spatial_smoothed[:,:,2], cmap='gray')\n",
    "\n",
    "plt.figure()\n",
    "plt.subplot(131)\n",
    "plt.imshow(stim_temp_smoothed[:,:,0], cmap='gray')\n",
    "plt.subplot(132)\n",
    "plt.imshow(stim_temp_smoothed[:,:,1], cmap='gray')\n",
    "plt.subplot(133)\n",
    "plt.imshow(stim_temp_smoothed[:,:,2], cmap='gray')"
   ]
  },
  {
   "cell_type": "code",
   "execution_count": null,
   "metadata": {},
   "outputs": [],
   "source": [
    "plt.hist([stim.ravel(), stim_spatial_smoothed.ravel(), stim_temp_smoothed.ravel()])\n",
    "plt.legend(['Gaussian', 'Spatially smoothed', 'Temporally smoothed'])\n",
    "\n",
    "np.std(stim.ravel()), np.std(stim_spatial_smoothed.ravel()), np.std(stim_temp_smoothed.ravel())"
   ]
  },
  {
   "cell_type": "code",
   "execution_count": null,
   "metadata": {},
   "outputs": [],
   "source": [
    "# check temopral correlation\n",
    "x=20\n",
    "y=20\n",
    "corr = correlate(stim[y,x,:], stim[y,x,:]) / width /height\n",
    "\n",
    "corr_spatial_smoothed = correlate(stim_spatial_smoothed[y,x,:], stim_spatial_smoothed[y,x,:]) / width /height\n",
    "\n",
    "corr_temp_smoothed = correlate(stim_temp_smoothed[y,x,:], stim_temp_smoothed[y,x,:]) / width /height\n",
    "\n",
    "corr_expected = alpha**(np.linspace(0, 10, 11)) / width / height\n",
    "\n",
    "ts = np.linspace(-(num_frames-1),num_frames-1, 2*num_frames-1)\n",
    "plt.plot(ts, corr_spatial_smoothed, 's-')\n",
    "plt.plot(ts, corr_temp_smoothed, 'o-')\n",
    "plt.plot(np.linspace(0, 10, 11), corr_expected, 'kv--')\n",
    "plt.xlim(0,5)\n",
    "plt.legend(['spatially  smoothed', 'temporally smoothed', 'expected'])\n",
    "box_off()\n",
    "plt.ylabel('correlation')\n",
    "plt.xlabel('time bin')"
   ]
  },
  {
   "cell_type": "code",
   "execution_count": null,
   "metadata": {},
   "outputs": [],
   "source": [
    "idx_frame = int(num_frames/2)\n",
    "plt.figure(figsize=(18,6))\n",
    "plt.subplot(121)\n",
    "plt.imshow(stim_temp_smoothed[:,:,idx_frame], cmap='gray')\n",
    "plt.title('stimulus ({:d}x{:d}, pixel size={:2} um)'.format(width,height,pixel_size))\n",
    "\n",
    "# plt.savefig('figure/stim_{}x{}_gauss_smoothed.png'.format(width,height), bbox_inches='tight')"
   ]
  },
  {
   "cell_type": "code",
   "execution_count": null,
   "metadata": {},
   "outputs": [],
   "source": []
  }
 ],
 "metadata": {
  "kernelspec": {
   "display_name": "Python 3",
   "language": "python",
   "name": "python3"
  },
  "language_info": {
   "codemirror_mode": {
    "name": "ipython",
    "version": 3
   },
   "file_extension": ".py",
   "mimetype": "text/x-python",
   "name": "python",
   "nbconvert_exporter": "python",
   "pygments_lexer": "ipython3",
   "version": "3.7.9"
  }
 },
 "nbformat": 4,
 "nbformat_minor": 4
}
